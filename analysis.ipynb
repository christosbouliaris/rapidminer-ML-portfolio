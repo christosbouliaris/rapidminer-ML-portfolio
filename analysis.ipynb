{
 "cells": [
  {
   "cell_type": "markdown",
   "id": "f8a7795c-737e-4b2f-81f2-38c07e21e2e7",
   "metadata": {},
   "source": [
    "# California Crime Analysis (R)\n",
    "### Dataset Description\n",
    "This project uses the “California Crime and Law Enforcement” dataset (2015) from Kaggle. It includes crime statistics by city and county in California (e.g., violent and property crimes) as well as corresponding law enforcement employee numbers. The dataset enables analysis of crime distribution, officer-to-population ratios, outlier detection, and exploratory modeling.\n"
   ]
  },
  {
   "cell_type": "code",
   "execution_count": null,
   "id": "286cafdc-db62-46b7-8b5e-453806a403ac",
   "metadata": {},
   "outputs": [],
   "source": [
    "#Libraries\n",
    "library(readr)\n",
    "#Package for skewness and kurtosis\n",
    "install.packages(\"e1071\") \n",
    "library(e1071) \n",
    "#Packages for correlation and NB method\n",
    "install.packages(caret)\n",
    "library(caret)\n",
    "install.packages(corrplot)\n",
    "library(corrplot)\n",
    "#Package for function left_join\n",
    "install.packages(\"tidyverse\")\n",
    "library(tidyverse)\n",
    "#Package for spatial data of counties of California, download the map of the counties of California.\n",
    "install.packages(\"tigris\")\n",
    "library(tigris)\n",
    "#Basic package for spatial data\n",
    "install.packages(\"sf\")\n",
    "library(sf)\n",
    "#Package to draw the map\n",
    "install.packages(\"ggplot2\")\n",
    "library(ggplot2)\n"
   ]
  },
  {
   "cell_type": "code",
   "execution_count": 25,
   "id": "299dc61a-b6cc-4dcc-adcf-15600dd2b959",
   "metadata": {
    "scrolled": true
   },
   "outputs": [
    {
     "data": {
      "text/html": [
       "<table class=\"dataframe\">\n",
       "<caption>A data.frame: 6 × 5</caption>\n",
       "<thead>\n",
       "\t<tr><th></th><th scope=col>City</th><th scope=col>Population</th><th scope=col>Total.law.enforcement.employees</th><th scope=col>Total..officers</th><th scope=col>Total..civilians</th></tr>\n",
       "\t<tr><th></th><th scope=col>&lt;chr&gt;</th><th scope=col>&lt;chr&gt;</th><th scope=col>&lt;chr&gt;</th><th scope=col>&lt;chr&gt;</th><th scope=col>&lt;chr&gt;</th></tr>\n",
       "</thead>\n",
       "<tbody>\n",
       "\t<tr><th scope=row>1</th><td>Alameda </td><td>78,613 </td><td>112</td><td>83 </td><td>29 </td></tr>\n",
       "\t<tr><th scope=row>2</th><td>Albany  </td><td>19,723 </td><td>30 </td><td>23 </td><td>7  </td></tr>\n",
       "\t<tr><th scope=row>3</th><td>Alhambra</td><td>86,175 </td><td>128</td><td>85 </td><td>43 </td></tr>\n",
       "\t<tr><th scope=row>4</th><td>Alturas </td><td>2,566  </td><td>6  </td><td>5  </td><td>1  </td></tr>\n",
       "\t<tr><th scope=row>5</th><td>Anaheim </td><td>349,471</td><td>577</td><td>399</td><td>178</td></tr>\n",
       "\t<tr><th scope=row>6</th><td>Anderson</td><td>10,277 </td><td>24 </td><td>18 </td><td>6  </td></tr>\n",
       "</tbody>\n",
       "</table>\n"
      ],
      "text/latex": [
       "A data.frame: 6 × 5\n",
       "\\begin{tabular}{r|lllll}\n",
       "  & City & Population & Total.law.enforcement.employees & Total..officers & Total..civilians\\\\\n",
       "  & <chr> & <chr> & <chr> & <chr> & <chr>\\\\\n",
       "\\hline\n",
       "\t1 & Alameda  & 78,613  & 112 & 83  & 29 \\\\\n",
       "\t2 & Albany   & 19,723  & 30  & 23  & 7  \\\\\n",
       "\t3 & Alhambra & 86,175  & 128 & 85  & 43 \\\\\n",
       "\t4 & Alturas  & 2,566   & 6   & 5   & 1  \\\\\n",
       "\t5 & Anaheim  & 349,471 & 577 & 399 & 178\\\\\n",
       "\t6 & Anderson & 10,277  & 24  & 18  & 6  \\\\\n",
       "\\end{tabular}\n"
      ],
      "text/markdown": [
       "\n",
       "A data.frame: 6 × 5\n",
       "\n",
       "| <!--/--> | City &lt;chr&gt; | Population &lt;chr&gt; | Total.law.enforcement.employees &lt;chr&gt; | Total..officers &lt;chr&gt; | Total..civilians &lt;chr&gt; |\n",
       "|---|---|---|---|---|---|\n",
       "| 1 | Alameda  | 78,613  | 112 | 83  | 29  |\n",
       "| 2 | Albany   | 19,723  | 30  | 23  | 7   |\n",
       "| 3 | Alhambra | 86,175  | 128 | 85  | 43  |\n",
       "| 4 | Alturas  | 2,566   | 6   | 5   | 1   |\n",
       "| 5 | Anaheim  | 349,471 | 577 | 399 | 178 |\n",
       "| 6 | Anderson | 10,277  | 24  | 18  | 6   |\n",
       "\n"
      ],
      "text/plain": [
       "  City     Population Total.law.enforcement.employees Total..officers\n",
       "1 Alameda  78,613     112                             83             \n",
       "2 Albany   19,723     30                              23             \n",
       "3 Alhambra 86,175     128                             85             \n",
       "4 Alturas  2,566      6                               5              \n",
       "5 Anaheim  349,471    577                             399            \n",
       "6 Anderson 10,277     24                              18             \n",
       "  Total..civilians\n",
       "1 29              \n",
       "2 7               \n",
       "3 43              \n",
       "4 1               \n",
       "5 178             \n",
       "6 6               "
      ]
     },
     "metadata": {},
     "output_type": "display_data"
    }
   ],
   "source": [
    "#Load ca_law_enforcement_by_city.csv,provide information about the police force in each city\n",
    "law_city <- read.csv(\"C:/Users/chris/OneDrive/Έγγραφα/R_scripts/ca_law_enforcement_by_city.csv\")\n",
    "head(law_city)"
   ]
  },
  {
   "cell_type": "code",
   "execution_count": 17,
   "id": "5d4730ef-a1f9-4112-b1f7-3e5cf7b3383b",
   "metadata": {},
   "outputs": [
    {
     "data": {
      "text/html": [
       "<table class=\"dataframe\">\n",
       "<caption>A data.frame: 6 × 5</caption>\n",
       "<thead>\n",
       "\t<tr><th></th><th scope=col>Metropolitan.Nonmetropolitan</th><th scope=col>County</th><th scope=col>Total.law.enforcement.employees</th><th scope=col>Total.officers</th><th scope=col>Total.civilians</th></tr>\n",
       "\t<tr><th></th><th scope=col>&lt;chr&gt;</th><th scope=col>&lt;chr&gt;</th><th scope=col>&lt;chr&gt;</th><th scope=col>&lt;chr&gt;</th><th scope=col>&lt;chr&gt;</th></tr>\n",
       "</thead>\n",
       "<tbody>\n",
       "\t<tr><th scope=row>1</th><td>Metropolitan Counties</td><td>Alameda     </td><td>1,560</td><td>978</td><td>582</td></tr>\n",
       "\t<tr><th scope=row>2</th><td>Metropolitan Counties</td><td>Butte       </td><td>288  </td><td>101</td><td>187</td></tr>\n",
       "\t<tr><th scope=row>3</th><td>Metropolitan Counties</td><td>Contra Costa</td><td>936  </td><td>610</td><td>326</td></tr>\n",
       "\t<tr><th scope=row>4</th><td>Metropolitan Counties</td><td>El Dorado   </td><td>349  </td><td>164</td><td>185</td></tr>\n",
       "\t<tr><th scope=row>5</th><td>Metropolitan Counties</td><td>Fresno      </td><td>1,043</td><td>406</td><td>637</td></tr>\n",
       "\t<tr><th scope=row>6</th><td>Metropolitan Counties</td><td>Imperial    </td><td>283  </td><td>190</td><td>93 </td></tr>\n",
       "</tbody>\n",
       "</table>\n"
      ],
      "text/latex": [
       "A data.frame: 6 × 5\n",
       "\\begin{tabular}{r|lllll}\n",
       "  & Metropolitan.Nonmetropolitan & County & Total.law.enforcement.employees & Total.officers & Total.civilians\\\\\n",
       "  & <chr> & <chr> & <chr> & <chr> & <chr>\\\\\n",
       "\\hline\n",
       "\t1 & Metropolitan Counties & Alameda      & 1,560 & 978 & 582\\\\\n",
       "\t2 & Metropolitan Counties & Butte        & 288   & 101 & 187\\\\\n",
       "\t3 & Metropolitan Counties & Contra Costa & 936   & 610 & 326\\\\\n",
       "\t4 & Metropolitan Counties & El Dorado    & 349   & 164 & 185\\\\\n",
       "\t5 & Metropolitan Counties & Fresno       & 1,043 & 406 & 637\\\\\n",
       "\t6 & Metropolitan Counties & Imperial     & 283   & 190 & 93 \\\\\n",
       "\\end{tabular}\n"
      ],
      "text/markdown": [
       "\n",
       "A data.frame: 6 × 5\n",
       "\n",
       "| <!--/--> | Metropolitan.Nonmetropolitan &lt;chr&gt; | County &lt;chr&gt; | Total.law.enforcement.employees &lt;chr&gt; | Total.officers &lt;chr&gt; | Total.civilians &lt;chr&gt; |\n",
       "|---|---|---|---|---|---|\n",
       "| 1 | Metropolitan Counties | Alameda      | 1,560 | 978 | 582 |\n",
       "| 2 | Metropolitan Counties | Butte        | 288   | 101 | 187 |\n",
       "| 3 | Metropolitan Counties | Contra Costa | 936   | 610 | 326 |\n",
       "| 4 | Metropolitan Counties | El Dorado    | 349   | 164 | 185 |\n",
       "| 5 | Metropolitan Counties | Fresno       | 1,043 | 406 | 637 |\n",
       "| 6 | Metropolitan Counties | Imperial     | 283   | 190 | 93  |\n",
       "\n"
      ],
      "text/plain": [
       "  Metropolitan.Nonmetropolitan County       Total.law.enforcement.employees\n",
       "1 Metropolitan Counties        Alameda      1,560                          \n",
       "2 Metropolitan Counties        Butte        288                            \n",
       "3 Metropolitan Counties        Contra Costa 936                            \n",
       "4 Metropolitan Counties        El Dorado    349                            \n",
       "5 Metropolitan Counties        Fresno       1,043                          \n",
       "6 Metropolitan Counties        Imperial     283                            \n",
       "  Total.officers Total.civilians\n",
       "1 978            582            \n",
       "2 101            187            \n",
       "3 610            326            \n",
       "4 164            185            \n",
       "5 406            637            \n",
       "6 190            93             "
      ]
     },
     "metadata": {},
     "output_type": "display_data"
    }
   ],
   "source": [
    "#Load ca_law_enforcement_by_city.csv ,provide information about the police force in each county.\n",
    "law_county <- read.csv(\"C:/Users/chris/OneDrive/Έγγραφα/R_scripts/ca_law_enforcement_by_county.csv\")\n",
    "head(law_county)"
   ]
  },
  {
   "cell_type": "code",
   "execution_count": 19,
   "id": "86bbf3eb-bd4b-41ba-ba05-e16ad841fb4e",
   "metadata": {},
   "outputs": [
    {
     "data": {
      "text/html": [
       "<table class=\"dataframe\">\n",
       "<caption>A data.frame: 6 × 13</caption>\n",
       "<thead>\n",
       "\t<tr><th></th><th scope=col>City</th><th scope=col>Population</th><th scope=col>Violent.crime</th><th scope=col>Murder.and.nonnegligent.manslaughter</th><th scope=col>Rape..revised.definition.</th><th scope=col>Rape..legacy.definition.</th><th scope=col>Robbery</th><th scope=col>Aggravated.assault</th><th scope=col>Property.crime</th><th scope=col>Burglary</th><th scope=col>Larceny.theft</th><th scope=col>Motor.vehicle.theft</th><th scope=col>Arson</th></tr>\n",
       "\t<tr><th></th><th scope=col>&lt;chr&gt;</th><th scope=col>&lt;chr&gt;</th><th scope=col>&lt;chr&gt;</th><th scope=col>&lt;int&gt;</th><th scope=col>&lt;chr&gt;</th><th scope=col>&lt;lgl&gt;</th><th scope=col>&lt;chr&gt;</th><th scope=col>&lt;chr&gt;</th><th scope=col>&lt;chr&gt;</th><th scope=col>&lt;chr&gt;</th><th scope=col>&lt;chr&gt;</th><th scope=col>&lt;chr&gt;</th><th scope=col>&lt;chr&gt;</th></tr>\n",
       "</thead>\n",
       "<tbody>\n",
       "\t<tr><th scope=row>1</th><td>Adelanto    </td><td>33,005</td><td>212</td><td>2</td><td>14</td><td>NA</td><td>48</td><td>148</td><td>808  </td><td>434</td><td>254  </td><td>120</td><td>24</td></tr>\n",
       "\t<tr><th scope=row>2</th><td>Agoura Hills</td><td>20,970</td><td>15 </td><td>0</td><td>1 </td><td>NA</td><td>6 </td><td>8  </td><td>310  </td><td>82 </td><td>217  </td><td>11 </td><td>0 </td></tr>\n",
       "\t<tr><th scope=row>3</th><td>Alameda     </td><td>78,613</td><td>148</td><td>2</td><td>7 </td><td>NA</td><td>61</td><td>78 </td><td>1,819</td><td>228</td><td>1,245</td><td>346</td><td>18</td></tr>\n",
       "\t<tr><th scope=row>4</th><td>Albany      </td><td>19,723</td><td>34 </td><td>1</td><td>6 </td><td>NA</td><td>16</td><td>11 </td><td>605  </td><td>95 </td><td>447  </td><td>63 </td><td>0 </td></tr>\n",
       "\t<tr><th scope=row>5</th><td>Alhambra3   </td><td>86,175</td><td>168</td><td>1</td><td>13</td><td>NA</td><td>74</td><td>80 </td><td>1,929</td><td>305</td><td>1,413</td><td>211</td><td>6 </td></tr>\n",
       "\t<tr><th scope=row>6</th><td>Aliso Viejo </td><td>50,751</td><td>32 </td><td>0</td><td>5 </td><td>NA</td><td>3 </td><td>24 </td><td>363  </td><td>53 </td><td>276  </td><td>34 </td><td>1 </td></tr>\n",
       "</tbody>\n",
       "</table>\n"
      ],
      "text/latex": [
       "A data.frame: 6 × 13\n",
       "\\begin{tabular}{r|lllllllllllll}\n",
       "  & City & Population & Violent.crime & Murder.and.nonnegligent.manslaughter & Rape..revised.definition. & Rape..legacy.definition. & Robbery & Aggravated.assault & Property.crime & Burglary & Larceny.theft & Motor.vehicle.theft & Arson\\\\\n",
       "  & <chr> & <chr> & <chr> & <int> & <chr> & <lgl> & <chr> & <chr> & <chr> & <chr> & <chr> & <chr> & <chr>\\\\\n",
       "\\hline\n",
       "\t1 & Adelanto     & 33,005 & 212 & 2 & 14 & NA & 48 & 148 & 808   & 434 & 254   & 120 & 24\\\\\n",
       "\t2 & Agoura Hills & 20,970 & 15  & 0 & 1  & NA & 6  & 8   & 310   & 82  & 217   & 11  & 0 \\\\\n",
       "\t3 & Alameda      & 78,613 & 148 & 2 & 7  & NA & 61 & 78  & 1,819 & 228 & 1,245 & 346 & 18\\\\\n",
       "\t4 & Albany       & 19,723 & 34  & 1 & 6  & NA & 16 & 11  & 605   & 95  & 447   & 63  & 0 \\\\\n",
       "\t5 & Alhambra3    & 86,175 & 168 & 1 & 13 & NA & 74 & 80  & 1,929 & 305 & 1,413 & 211 & 6 \\\\\n",
       "\t6 & Aliso Viejo  & 50,751 & 32  & 0 & 5  & NA & 3  & 24  & 363   & 53  & 276   & 34  & 1 \\\\\n",
       "\\end{tabular}\n"
      ],
      "text/markdown": [
       "\n",
       "A data.frame: 6 × 13\n",
       "\n",
       "| <!--/--> | City &lt;chr&gt; | Population &lt;chr&gt; | Violent.crime &lt;chr&gt; | Murder.and.nonnegligent.manslaughter &lt;int&gt; | Rape..revised.definition. &lt;chr&gt; | Rape..legacy.definition. &lt;lgl&gt; | Robbery &lt;chr&gt; | Aggravated.assault &lt;chr&gt; | Property.crime &lt;chr&gt; | Burglary &lt;chr&gt; | Larceny.theft &lt;chr&gt; | Motor.vehicle.theft &lt;chr&gt; | Arson &lt;chr&gt; |\n",
       "|---|---|---|---|---|---|---|---|---|---|---|---|---|---|\n",
       "| 1 | Adelanto     | 33,005 | 212 | 2 | 14 | NA | 48 | 148 | 808   | 434 | 254   | 120 | 24 |\n",
       "| 2 | Agoura Hills | 20,970 | 15  | 0 | 1  | NA | 6  | 8   | 310   | 82  | 217   | 11  | 0  |\n",
       "| 3 | Alameda      | 78,613 | 148 | 2 | 7  | NA | 61 | 78  | 1,819 | 228 | 1,245 | 346 | 18 |\n",
       "| 4 | Albany       | 19,723 | 34  | 1 | 6  | NA | 16 | 11  | 605   | 95  | 447   | 63  | 0  |\n",
       "| 5 | Alhambra3    | 86,175 | 168 | 1 | 13 | NA | 74 | 80  | 1,929 | 305 | 1,413 | 211 | 6  |\n",
       "| 6 | Aliso Viejo  | 50,751 | 32  | 0 | 5  | NA | 3  | 24  | 363   | 53  | 276   | 34  | 1  |\n",
       "\n"
      ],
      "text/plain": [
       "  City         Population Violent.crime Murder.and.nonnegligent.manslaughter\n",
       "1 Adelanto     33,005     212           2                                   \n",
       "2 Agoura Hills 20,970     15            0                                   \n",
       "3 Alameda      78,613     148           2                                   \n",
       "4 Albany       19,723     34            1                                   \n",
       "5 Alhambra3    86,175     168           1                                   \n",
       "6 Aliso Viejo  50,751     32            0                                   \n",
       "  Rape..revised.definition. Rape..legacy.definition. Robbery Aggravated.assault\n",
       "1 14                        NA                       48      148               \n",
       "2 1                         NA                       6       8                 \n",
       "3 7                         NA                       61      78                \n",
       "4 6                         NA                       16      11                \n",
       "5 13                        NA                       74      80                \n",
       "6 5                         NA                       3       24                \n",
       "  Property.crime Burglary Larceny.theft Motor.vehicle.theft Arson\n",
       "1 808            434      254           120                 24   \n",
       "2 310            82       217           11                  0    \n",
       "3 1,819          228      1,245         346                 18   \n",
       "4 605            95       447           63                  0    \n",
       "5 1,929          305      1,413         211                 6    \n",
       "6 363            53       276           34                  1    "
      ]
     },
     "metadata": {},
     "output_type": "display_data"
    }
   ],
   "source": [
    "#Load ca_offenses_by_city.csv,provide information about recorded crimes in California classified by city.\n",
    "offenses_city <- read.csv(\"C:/Users/chris/OneDrive/Έγγραφα/R_scripts/ca_offenses_by_city.csv\")\n",
    "head(offenses_city)"
   ]
  },
  {
   "cell_type": "code",
   "execution_count": 21,
   "id": "fcb0e780-e00c-40b5-b0ed-b4f07c5ba9b7",
   "metadata": {},
   "outputs": [
    {
     "data": {
      "text/html": [
       "<table class=\"dataframe\">\n",
       "<caption>A data.frame: 6 × 13</caption>\n",
       "<thead>\n",
       "\t<tr><th></th><th scope=col>Metropolitan.Nonmetropolitan</th><th scope=col>County</th><th scope=col>Violent.crime</th><th scope=col>Murder.and.nonnegligent.manslaughter</th><th scope=col>Rape..revised.definition.</th><th scope=col>Rape.legacy.definition.</th><th scope=col>Robbery</th><th scope=col>Aggravated.assault</th><th scope=col>Property.crime</th><th scope=col>Burglary</th><th scope=col>Larceny.theft</th><th scope=col>Motor.vehicle.theft</th><th scope=col>Arson</th></tr>\n",
       "\t<tr><th></th><th scope=col>&lt;chr&gt;</th><th scope=col>&lt;chr&gt;</th><th scope=col>&lt;chr&gt;</th><th scope=col>&lt;dbl&gt;</th><th scope=col>&lt;dbl&gt;</th><th scope=col>&lt;lgl&gt;</th><th scope=col>&lt;chr&gt;</th><th scope=col>&lt;chr&gt;</th><th scope=col>&lt;chr&gt;</th><th scope=col>&lt;chr&gt;</th><th scope=col>&lt;chr&gt;</th><th scope=col>&lt;chr&gt;</th><th scope=col>&lt;dbl&gt;</th></tr>\n",
       "</thead>\n",
       "<tbody>\n",
       "\t<tr><th scope=row>1</th><td>Metropolitan Counties</td><td>Alameda     </td><td>510</td><td> 6</td><td>13</td><td>NA</td><td>177</td><td>314</td><td>2,077</td><td>463  </td><td>985  </td><td>629</td><td> 11</td></tr>\n",
       "\t<tr><th scope=row>2</th><td>Metropolitan Counties</td><td>Butte3      </td><td>155</td><td> 4</td><td>20</td><td>NA</td><td>14 </td><td>117</td><td>1,422</td><td>708  </td><td>693  </td><td>21 </td><td>  0</td></tr>\n",
       "\t<tr><th scope=row>3</th><td>Metropolitan Counties</td><td>Contra Costa</td><td>426</td><td>14</td><td>24</td><td>NA</td><td>153</td><td>235</td><td>2,013</td><td>660  </td><td>1,332</td><td>21 </td><td> 18</td></tr>\n",
       "\t<tr><th scope=row>4</th><td>Metropolitan Counties</td><td>El Dorado3  </td><td>252</td><td> 9</td><td>46</td><td>NA</td><td>32 </td><td>165</td><td>2,031</td><td>577  </td><td>1,412</td><td>42 </td><td>  4</td></tr>\n",
       "\t<tr><th scope=row>5</th><td>Metropolitan Counties</td><td>Fresno      </td><td>962</td><td> 8</td><td>32</td><td>NA</td><td>112</td><td>810</td><td>3,810</td><td>1,398</td><td>1,838</td><td>574</td><td>145</td></tr>\n",
       "\t<tr><th scope=row>6</th><td>Metropolitan Counties</td><td>Imperial3   </td><td>219</td><td> 0</td><td> 6</td><td>NA</td><td>7  </td><td>206</td><td>625  </td><td>202  </td><td>395  </td><td>28 </td><td> 21</td></tr>\n",
       "</tbody>\n",
       "</table>\n"
      ],
      "text/latex": [
       "A data.frame: 6 × 13\n",
       "\\begin{tabular}{r|lllllllllllll}\n",
       "  & Metropolitan.Nonmetropolitan & County & Violent.crime & Murder.and.nonnegligent.manslaughter & Rape..revised.definition. & Rape.legacy.definition. & Robbery & Aggravated.assault & Property.crime & Burglary & Larceny.theft & Motor.vehicle.theft & Arson\\\\\n",
       "  & <chr> & <chr> & <chr> & <dbl> & <dbl> & <lgl> & <chr> & <chr> & <chr> & <chr> & <chr> & <chr> & <dbl>\\\\\n",
       "\\hline\n",
       "\t1 & Metropolitan Counties & Alameda      & 510 &  6 & 13 & NA & 177 & 314 & 2,077 & 463   & 985   & 629 &  11\\\\\n",
       "\t2 & Metropolitan Counties & Butte3       & 155 &  4 & 20 & NA & 14  & 117 & 1,422 & 708   & 693   & 21  &   0\\\\\n",
       "\t3 & Metropolitan Counties & Contra Costa & 426 & 14 & 24 & NA & 153 & 235 & 2,013 & 660   & 1,332 & 21  &  18\\\\\n",
       "\t4 & Metropolitan Counties & El Dorado3   & 252 &  9 & 46 & NA & 32  & 165 & 2,031 & 577   & 1,412 & 42  &   4\\\\\n",
       "\t5 & Metropolitan Counties & Fresno       & 962 &  8 & 32 & NA & 112 & 810 & 3,810 & 1,398 & 1,838 & 574 & 145\\\\\n",
       "\t6 & Metropolitan Counties & Imperial3    & 219 &  0 &  6 & NA & 7   & 206 & 625   & 202   & 395   & 28  &  21\\\\\n",
       "\\end{tabular}\n"
      ],
      "text/markdown": [
       "\n",
       "A data.frame: 6 × 13\n",
       "\n",
       "| <!--/--> | Metropolitan.Nonmetropolitan &lt;chr&gt; | County &lt;chr&gt; | Violent.crime &lt;chr&gt; | Murder.and.nonnegligent.manslaughter &lt;dbl&gt; | Rape..revised.definition. &lt;dbl&gt; | Rape.legacy.definition. &lt;lgl&gt; | Robbery &lt;chr&gt; | Aggravated.assault &lt;chr&gt; | Property.crime &lt;chr&gt; | Burglary &lt;chr&gt; | Larceny.theft &lt;chr&gt; | Motor.vehicle.theft &lt;chr&gt; | Arson &lt;dbl&gt; |\n",
       "|---|---|---|---|---|---|---|---|---|---|---|---|---|---|\n",
       "| 1 | Metropolitan Counties | Alameda      | 510 |  6 | 13 | NA | 177 | 314 | 2,077 | 463   | 985   | 629 |  11 |\n",
       "| 2 | Metropolitan Counties | Butte3       | 155 |  4 | 20 | NA | 14  | 117 | 1,422 | 708   | 693   | 21  |   0 |\n",
       "| 3 | Metropolitan Counties | Contra Costa | 426 | 14 | 24 | NA | 153 | 235 | 2,013 | 660   | 1,332 | 21  |  18 |\n",
       "| 4 | Metropolitan Counties | El Dorado3   | 252 |  9 | 46 | NA | 32  | 165 | 2,031 | 577   | 1,412 | 42  |   4 |\n",
       "| 5 | Metropolitan Counties | Fresno       | 962 |  8 | 32 | NA | 112 | 810 | 3,810 | 1,398 | 1,838 | 574 | 145 |\n",
       "| 6 | Metropolitan Counties | Imperial3    | 219 |  0 |  6 | NA | 7   | 206 | 625   | 202   | 395   | 28  |  21 |\n",
       "\n"
      ],
      "text/plain": [
       "  Metropolitan.Nonmetropolitan County       Violent.crime\n",
       "1 Metropolitan Counties        Alameda      510          \n",
       "2 Metropolitan Counties        Butte3       155          \n",
       "3 Metropolitan Counties        Contra Costa 426          \n",
       "4 Metropolitan Counties        El Dorado3   252          \n",
       "5 Metropolitan Counties        Fresno       962          \n",
       "6 Metropolitan Counties        Imperial3    219          \n",
       "  Murder.and.nonnegligent.manslaughter Rape..revised.definition.\n",
       "1  6                                   13                       \n",
       "2  4                                   20                       \n",
       "3 14                                   24                       \n",
       "4  9                                   46                       \n",
       "5  8                                   32                       \n",
       "6  0                                    6                       \n",
       "  Rape.legacy.definition. Robbery Aggravated.assault Property.crime Burglary\n",
       "1 NA                      177     314                2,077          463     \n",
       "2 NA                      14      117                1,422          708     \n",
       "3 NA                      153     235                2,013          660     \n",
       "4 NA                      32      165                2,031          577     \n",
       "5 NA                      112     810                3,810          1,398   \n",
       "6 NA                      7       206                625            202     \n",
       "  Larceny.theft Motor.vehicle.theft Arson\n",
       "1 985           629                  11  \n",
       "2 693           21                    0  \n",
       "3 1,332         21                   18  \n",
       "4 1,412         42                    4  \n",
       "5 1,838         574                 145  \n",
       "6 395           28                   21  "
      ]
     },
     "metadata": {},
     "output_type": "display_data"
    }
   ],
   "source": [
    "#Preprocessing ca_offenses_by_county.csv data set\n",
    "#To delete those lines later\n",
    "offenses_county <- read.csv(\"C:/Users/chris/OneDrive/Έγγραφα/R_scripts/ca_offenses_by_county.csv\",na.strings = c(\"\", \" \", \"NA\"))\n",
    "head(offenses_county)"
   ]
  },
  {
   "cell_type": "markdown",
   "id": "08c2dd40-fb26-4d38-97e5-772e1f5ad4fb",
   "metadata": {},
   "source": [
    "# Preprocessing ca_law_enforcement_by_city.csv"
   ]
  },
  {
   "cell_type": "code",
   "execution_count": 51,
   "id": "c4850991-0b27-41e5-9401-35a3859febe1",
   "metadata": {
    "scrolled": true
   },
   "outputs": [
    {
     "name": "stdout",
     "output_type": "stream",
     "text": [
      " num [1:333] 78613 19723 86175 2566 349471 ...\n"
     ]
    }
   ],
   "source": [
    "#Preprocessing ca_law_enforcement_by_city.csv\n",
    "#Population attribute changed from character to numeric type\n",
    "str(law_city$Population)\n",
    "law_city$Population <- as.numeric(gsub(\",\", \"\", law_city$Population))\n"
   ]
  },
  {
   "cell_type": "code",
   "execution_count": 37,
   "id": "0dcae9e7-7f54-4b83-a505-b4570a3b215b",
   "metadata": {},
   "outputs": [
    {
     "name": "stdout",
     "output_type": "stream",
     "text": [
      " chr [1:333] \"112\" \"30\" \"128\" \"6\" \"577\" \"24\" \"115\" \"93\" \"35\" \"27\" \"29\" \"37\" ...\n",
      " chr [1:333] \"83\" \"23\" \"85\" \"5\" \"399\" \"18\" \"91\" \"68\" \"25\" \"23\" \"22\" \"27\" ...\n",
      " chr [1:333] \"29\" \"7\" \"43\" \"1\" \"178\" \"6\" \"24\" \"25\" \"10\" \"4\" \"7\" \"10\" \"7\" ...\n",
      "'data.frame':\t333 obs. of  5 variables:\n",
      " $ City                           : chr  \"Alameda\" \"Albany\" \"Alhambra\" \"Alturas\" ...\n",
      " $ Population                     : num  78613 19723 86175 2566 349471 ...\n",
      " $ Total.law.enforcement.employees: num  112 30 128 6 577 24 115 93 35 27 ...\n",
      " $ Total..officers                : num  83 23 85 5 399 18 91 68 25 23 ...\n",
      " $ Total..civilians               : num  29 7 43 1 178 6 24 25 10 4 ...\n"
     ]
    }
   ],
   "source": [
    "str(law_city$Total.law.enforcement.employees)\n",
    "law_city$Total.law.enforcement.employees <- as.numeric(gsub(\",\",\"\",law_city$Total.law.enforcement.employees))\n",
    "str(law_city$Total..officers)\n",
    "law_city$Total..officers <- as.numeric(gsub(\",\",\"\",law_city$Total..officers))\n",
    "str(law_city$Total..civilians)\n",
    "law_city$Total..civilians <- as.numeric(gsub(\",\",\"\",law_city$Total..civilians))\n",
    "str(law_city)"
   ]
  },
  {
   "cell_type": "code",
   "execution_count": 49,
   "id": "fe9e60cd-e9bb-4aad-9b48-c7497a798caa",
   "metadata": {},
   "outputs": [
    {
     "data": {
      "image/png": "[encoded data removed]",
      "text/plain": [
       "Plot with title \"Boxplot Total Civilians\""
      ]
     },
     "metadata": {
      "image/png": {
       "height": 420,
       "width": 420
      }
     },
     "output_type": "display_data"
    }
   ],
   "source": [
    "#Boxplot to check for outliers in ca_law_enforcement_by_city.csv\n",
    "par(mfrow = c(2,2))\n",
    "boxplot(law_city$Population, main = \"Boxplot Population\",ylab = \"Population\")\n",
    "boxplot(law_city$Total.law.enforcement.employees, main = \"Boxplot Total Enforcement Employees\",ylab = \"Enforcement Employees\")\n",
    "boxplot(law_city$Total..officers, main = \"Boxplot Total Officers\",ylab = \"Officers\")\n",
    "boxplot(law_city$Total..civilians, main = \"Boxplot Total Civilians\",ylab = \"Civilians\")"
   ]
  },
  {
   "cell_type": "code",
   "execution_count": 45,
   "id": "e3906f20-cb03-45ab-8f58-f3a68ba0eb49",
   "metadata": {},
   "outputs": [
    {
     "data": {
      "text/html": [
       "22"
      ],
      "text/latex": [
       "22"
      ],
      "text/markdown": [
       "22"
      ],
      "text/plain": [
       "[1] 22"
      ]
     },
     "metadata": {},
     "output_type": "display_data"
    },
    {
     "data": {
      "text/html": [
       "<style>\n",
       ".list-inline {list-style: none; margin:0; padding: 0}\n",
       ".list-inline>li {display: inline-block}\n",
       ".list-inline>li:not(:last-child)::after {content: \"\\00b7\"; padding: 0 .5ex}\n",
       "</style>\n",
       "<ol class=list-inline><li>349471</li><li>373887</li><li>265215</li><li>206982</li><li>232427</li><li>520837</li><li>202298</li><li>203233</li><li>258198</li><li>476318</li><li>3962726</li><li>210794</li><li>419481</li><li>207221</li><li>323064</li><li>489717</li><li>216477</li><li>1400467</li><li>863782</li><li>1031458</li><li>337304</li><li>304890</li></ol>\n"
      ],
      "text/latex": [
       "\\begin{enumerate*}\n",
       "\\item 349471\n",
       "\\item 373887\n",
       "\\item 265215\n",
       "\\item 206982\n",
       "\\item 232427\n",
       "\\item 520837\n",
       "\\item 202298\n",
       "\\item 203233\n",
       "\\item 258198\n",
       "\\item 476318\n",
       "\\item 3962726\n",
       "\\item 210794\n",
       "\\item 419481\n",
       "\\item 207221\n",
       "\\item 323064\n",
       "\\item 489717\n",
       "\\item 216477\n",
       "\\item 1400467\n",
       "\\item 863782\n",
       "\\item 1031458\n",
       "\\item 337304\n",
       "\\item 304890\n",
       "\\end{enumerate*}\n"
      ],
      "text/markdown": [
       "1. 349471\n",
       "2. 373887\n",
       "3. 265215\n",
       "4. 206982\n",
       "5. 232427\n",
       "6. 520837\n",
       "7. 202298\n",
       "8. 203233\n",
       "9. 258198\n",
       "10. 476318\n",
       "11. 3962726\n",
       "12. 210794\n",
       "13. 419481\n",
       "14. 207221\n",
       "15. 323064\n",
       "16. 489717\n",
       "17. 216477\n",
       "18. 1400467\n",
       "19. 863782\n",
       "20. 1031458\n",
       "21. 337304\n",
       "22. 304890\n",
       "\n",
       "\n"
      ],
      "text/plain": [
       " [1]  349471  373887  265215  206982  232427  520837  202298  203233  258198\n",
       "[10]  476318 3962726  210794  419481  207221  323064  489717  216477 1400467\n",
       "[19]  863782 1031458  337304  304890"
      ]
     },
     "metadata": {},
     "output_type": "display_data"
    },
    {
     "data": {
      "text/plain": [
       "   Min. 1st Qu.  Median    Mean 3rd Qu.    Max. \n",
       "    115   11879   33619   80736   81953 3962726 "
      ]
     },
     "metadata": {},
     "output_type": "display_data"
    }
   ],
   "source": [
    "#For Population Attribute\n",
    "#22 outliers\n",
    "length(boxplot.stats(law_city$Population)$out)\n",
    "boxplot.stats(law_city$Population)$out\n",
    "summary(law_city$Population)"
   ]
  },
  {
   "cell_type": "code",
   "execution_count": 47,
   "id": "cf935b3a-a32f-4d31-bb81-b93b8d7fcce7",
   "metadata": {},
   "outputs": [
    {
     "data": {
      "text/html": [
       "26"
      ],
      "text/latex": [
       "26"
      ],
      "text/markdown": [
       "26"
      ],
      "text/plain": [
       "[1] 26"
      ]
     },
     "metadata": {},
     "output_type": "display_data"
    },
    {
     "data": {
      "text/html": [
       "<style>\n",
       ".list-inline {list-style: none; margin:0; padding: 0}\n",
       ".list-inline>li {display: inline-block}\n",
       ".list-inline>li:not(:last-child)::after {content: \"\\00b7\"; padding: 0 .5ex}\n",
       "</style>\n",
       "<ol class=list-inline><li>399</li><li>388</li><li>217</li><li>702</li><li>236</li><li>210</li><li>203</li><li>771</li><li>9863</li><li>216</li><li>734</li><li>206</li><li>234</li><li>237</li><li>221</li><li>368</li><li>646</li><li>214</li><li>1887</li><li>2236</li><li>939</li><li>302</li><li>203</li><li>389</li><li>214</li><li>212</li></ol>\n"
      ],
      "text/latex": [
       "\\begin{enumerate*}\n",
       "\\item 399\n",
       "\\item 388\n",
       "\\item 217\n",
       "\\item 702\n",
       "\\item 236\n",
       "\\item 210\n",
       "\\item 203\n",
       "\\item 771\n",
       "\\item 9863\n",
       "\\item 216\n",
       "\\item 734\n",
       "\\item 206\n",
       "\\item 234\n",
       "\\item 237\n",
       "\\item 221\n",
       "\\item 368\n",
       "\\item 646\n",
       "\\item 214\n",
       "\\item 1887\n",
       "\\item 2236\n",
       "\\item 939\n",
       "\\item 302\n",
       "\\item 203\n",
       "\\item 389\n",
       "\\item 214\n",
       "\\item 212\n",
       "\\end{enumerate*}\n"
      ],
      "text/markdown": [
       "1. 399\n",
       "2. 388\n",
       "3. 217\n",
       "4. 702\n",
       "5. 236\n",
       "6. 210\n",
       "7. 203\n",
       "8. 771\n",
       "9. 9863\n",
       "10. 216\n",
       "11. 734\n",
       "12. 206\n",
       "13. 234\n",
       "14. 237\n",
       "15. 221\n",
       "16. 368\n",
       "17. 646\n",
       "18. 214\n",
       "19. 1887\n",
       "20. 2236\n",
       "21. 939\n",
       "22. 302\n",
       "23. 203\n",
       "24. 389\n",
       "25. 214\n",
       "26. 212\n",
       "\n",
       "\n"
      ],
      "text/plain": [
       " [1]  399  388  217  702  236  210  203  771 9863  216  734  206  234  237  221\n",
       "[16]  368  646  214 1887 2236  939  302  203  389  214  212"
      ]
     },
     "metadata": {},
     "output_type": "display_data"
    },
    {
     "data": {
      "text/plain": [
       "   Min. 1st Qu.  Median    Mean 3rd Qu.    Max. \n",
       "    3.0    16.0    39.0   112.5    85.0  9863.0 "
      ]
     },
     "metadata": {},
     "output_type": "display_data"
    }
   ],
   "source": [
    "#For Total officers Attribute\n",
    "#26 outliers\n",
    "length(boxplot.stats(law_city$Total..officers)$out)\n",
    "boxplot.stats(law_city$Total..officers)$out\n",
    "summary(law_city$Total..officers)"
   ]
  },
  {
   "cell_type": "markdown",
   "id": "6578e552-430e-4545-891a-fdceaef64947",
   "metadata": {},
   "source": [
    "# Preprocessing ca_law_enforcement_by_county.csv"
   ]
  },
  {
   "cell_type": "code",
   "execution_count": null,
   "id": "823e1d74-0d73-4453-b525-a6b385427d4e",
   "metadata": {},
   "outputs": [],
   "source": [
    "law_county$Total.law.enforcement.employees <- as.numeric(gsub(\",\", \"\", law_county$Total.law.enforcement.employees))\n",
    "law_county$Total.officers <- as.numeric(gsub(\",\",\"\",law_county$Total.officers))\n",
    "law_county$Total.civilians <- as.numeric(gsub(\",\",\"\",law_county$Total.civilians))\n",
    "str(law_county)"
   ]
  },
  {
   "cell_type": "code",
   "execution_count": 53,
   "id": "7ec3e7fd-9836-4093-b061-615cb19060af",
   "metadata": {},
   "outputs": [
    {
     "data": {
      "text/html": [
       "<style>\n",
       ".dl-inline {width: auto; margin:0; padding: 0}\n",
       ".dl-inline>dt, .dl-inline>dd {float: none; width: auto; display: inline-block}\n",
       ".dl-inline>dt::after {content: \":\\0020\"; padding-right: .5ex}\n",
       ".dl-inline>dt:not(:first-of-type) {padding-left: .5ex}\n",
       "</style><dl class=dl-inline><dt>Metropolitan.Nonmetropolitan</dt><dd>0</dd><dt>County</dt><dd>0</dd><dt>Total.law.enforcement.employees</dt><dd>0</dd><dt>Total.officers</dt><dd>0</dd><dt>Total.civilians</dt><dd>0</dd></dl>\n"
      ],
      "text/latex": [
       "\\begin{description*}\n",
       "\\item[Metropolitan.Nonmetropolitan] 0\n",
       "\\item[County] 0\n",
       "\\item[Total.law.enforcement.employees] 0\n",
       "\\item[Total.officers] 0\n",
       "\\item[Total.civilians] 0\n",
       "\\end{description*}\n"
      ],
      "text/markdown": [
       "Metropolitan.Nonmetropolitan\n",
       ":   0County\n",
       ":   0Total.law.enforcement.employees\n",
       ":   0Total.officers\n",
       ":   0Total.civilians\n",
       ":   0\n",
       "\n"
      ],
      "text/plain": [
       "   Metropolitan.Nonmetropolitan                          County \n",
       "                              0                               0 \n",
       "Total.law.enforcement.employees                  Total.officers \n",
       "                              0                               0 \n",
       "                Total.civilians \n",
       "                              0 "
      ]
     },
     "metadata": {},
     "output_type": "display_data"
    }
   ],
   "source": [
    "#Checking missing values\n",
    "colSums(is.na(law_county))"
   ]
  },
  {
   "cell_type": "markdown",
   "id": "bc3ed288-1506-41e8-a0ba-5d40f2b283d5",
   "metadata": {},
   "source": [
    "# Preprocessing ca_offenses_by_city.csv"
   ]
  },
  {
   "cell_type": "code",
   "execution_count": 55,
   "id": "e2256f55-1b7a-4fb0-98a1-44c4ffe60da0",
   "metadata": {},
   "outputs": [
    {
     "name": "stdout",
     "output_type": "stream",
     "text": [
      "'data.frame':\t460 obs. of  13 variables:\n",
      " $ City                                : chr  \"Adelanto\" \"Agoura Hills\" \"Alameda\" \"Albany\" ...\n",
      " $ Population                          : num  33005 20970 78613 19723 86175 ...\n",
      " $ Violent.crime                       : num  212 15 148 34 168 ...\n",
      " $ Murder.and.nonnegligent.manslaughter: int  2 0 2 1 1 0 0 1 18 0 ...\n",
      " $ Rape..revised.definition.           : num  14 1 7 6 13 5 13 7 129 4 ...\n",
      " $ Rape..legacy.definition.            : logi  NA NA NA NA NA NA ...\n",
      " $ Robbery                             : num  48 6 61 16 74 3 2 21 439 9 ...\n",
      " $ Aggravated.assault                  : num  148 8 78 11 80 24 20 29 685 75 ...\n",
      " $ Property.crime                      : num  808 310 1819 605 1929 ...\n",
      " $ Burglary                            : num  434 82 228 95 305 ...\n",
      " $ Larceny.theft                       : num  254 217 1245 447 1413 ...\n",
      " $ Motor.vehicle.theft                 : num  120 11 346 63 211 ...\n",
      " $ Arson                               : num  24 0 18 0 6 1 4 2 28 2 ...\n"
     ]
    }
   ],
   "source": [
    "#Change chr type to num\n",
    "offenses_city$Population <- as.numeric(gsub(\",\", \"\",offenses_city$Population))\n",
    "offenses_city$Violent.crime <- as.numeric(gsub(\",\", \"\",offenses_city$Violent.crime))\n",
    "offenses_city$Rape..revised.definition. <- as.numeric(gsub(\",\", \"\",offenses_city$Rape..revised.definition.))\n",
    "offenses_city$Robbery <- as.numeric(gsub(\",\", \"\",offenses_city$Robbery))\n",
    "offenses_city$Aggravated.assault <- as.numeric(gsub(\",\", \"\",offenses_city$Aggravated.assault))\n",
    "offenses_city$Property.crime <- as.numeric(gsub(\",\", \"\",offenses_city$Property.crime))\n",
    "offenses_city$Burglary <- as.numeric(gsub(\",\", \"\",offenses_city$Burglary))\n",
    "offenses_city$Larceny.theft <- as.numeric(gsub(\",\", \"\",offenses_city$Larceny.theft))\n",
    "offenses_city$Motor.vehicle.theft <- as.numeric(gsub(\",\", \"\",offenses_city$Motor.vehicle.theft))\n",
    "offenses_city$Arson <- as.numeric(gsub(\",\", \"\",offenses_city$Arson))\n",
    "str(offenses_city)"
   ]
  },
  {
   "cell_type": "code",
   "execution_count": 59,
   "id": "85b5bd6b-db2e-4ffa-9fd2-9e07cee920e2",
   "metadata": {},
   "outputs": [
    {
     "data": {
      "text/html": [
       "<style>\n",
       ".dl-inline {width: auto; margin:0; padding: 0}\n",
       ".dl-inline>dt, .dl-inline>dd {float: none; width: auto; display: inline-block}\n",
       ".dl-inline>dt::after {content: \":\\0020\"; padding-right: .5ex}\n",
       ".dl-inline>dt:not(:first-of-type) {padding-left: .5ex}\n",
       "</style><dl class=dl-inline><dt>City</dt><dd>0</dd><dt>Population</dt><dd>0</dd><dt>Violent.crime</dt><dd>0</dd><dt>Murder.and.nonnegligent.manslaughter</dt><dd>0</dd><dt>Rape..revised.definition.</dt><dd>0</dd><dt>Rape..legacy.definition.</dt><dd>460</dd><dt>Robbery</dt><dd>0</dd><dt>Aggravated.assault</dt><dd>0</dd><dt>Property.crime</dt><dd>0</dd><dt>Burglary</dt><dd>0</dd><dt>Larceny.theft</dt><dd>0</dd><dt>Motor.vehicle.theft</dt><dd>0</dd><dt>Arson</dt><dd>0</dd></dl>\n"
      ],
      "text/latex": [
       "\\begin{description*}\n",
       "\\item[City] 0\n",
       "\\item[Population] 0\n",
       "\\item[Violent.crime] 0\n",
       "\\item[Murder.and.nonnegligent.manslaughter] 0\n",
       "\\item[Rape..revised.definition.] 0\n",
       "\\item[Rape..legacy.definition.] 460\n",
       "\\item[Robbery] 0\n",
       "\\item[Aggravated.assault] 0\n",
       "\\item[Property.crime] 0\n",
       "\\item[Burglary] 0\n",
       "\\item[Larceny.theft] 0\n",
       "\\item[Motor.vehicle.theft] 0\n",
       "\\item[Arson] 0\n",
       "\\end{description*}\n"
      ],
      "text/markdown": [
       "City\n",
       ":   0Population\n",
       ":   0Violent.crime\n",
       ":   0Murder.and.nonnegligent.manslaughter\n",
       ":   0Rape..revised.definition.\n",
       ":   0Rape..legacy.definition.\n",
       ":   460Robbery\n",
       ":   0Aggravated.assault\n",
       ":   0Property.crime\n",
       ":   0Burglary\n",
       ":   0Larceny.theft\n",
       ":   0Motor.vehicle.theft\n",
       ":   0Arson\n",
       ":   0\n",
       "\n"
      ],
      "text/plain": [
       "                                City                           Population \n",
       "                                   0                                    0 \n",
       "                       Violent.crime Murder.and.nonnegligent.manslaughter \n",
       "                                   0                                    0 \n",
       "           Rape..revised.definition.             Rape..legacy.definition. \n",
       "                                   0                                  460 \n",
       "                             Robbery                   Aggravated.assault \n",
       "                                   0                                    0 \n",
       "                      Property.crime                             Burglary \n",
       "                                   0                                    0 \n",
       "                       Larceny.theft                  Motor.vehicle.theft \n",
       "                                   0                                    0 \n",
       "                               Arson \n",
       "                                   0 "
      ]
     },
     "metadata": {},
     "output_type": "display_data"
    },
    {
     "data": {
      "text/html": [
       "<table class=\"dataframe\">\n",
       "<caption>A data.frame: 6 × 12</caption>\n",
       "<thead>\n",
       "\t<tr><th></th><th scope=col>City</th><th scope=col>Population</th><th scope=col>Violent.crime</th><th scope=col>Murder.and.nonnegligent.manslaughter</th><th scope=col>Rape..revised.definition.</th><th scope=col>Robbery</th><th scope=col>Aggravated.assault</th><th scope=col>Property.crime</th><th scope=col>Burglary</th><th scope=col>Larceny.theft</th><th scope=col>Motor.vehicle.theft</th><th scope=col>Arson</th></tr>\n",
       "\t<tr><th></th><th scope=col>&lt;chr&gt;</th><th scope=col>&lt;dbl&gt;</th><th scope=col>&lt;dbl&gt;</th><th scope=col>&lt;int&gt;</th><th scope=col>&lt;dbl&gt;</th><th scope=col>&lt;dbl&gt;</th><th scope=col>&lt;dbl&gt;</th><th scope=col>&lt;dbl&gt;</th><th scope=col>&lt;dbl&gt;</th><th scope=col>&lt;dbl&gt;</th><th scope=col>&lt;dbl&gt;</th><th scope=col>&lt;dbl&gt;</th></tr>\n",
       "</thead>\n",
       "<tbody>\n",
       "\t<tr><th scope=row>1</th><td>Adelanto    </td><td>33005</td><td>212</td><td>2</td><td>14</td><td>48</td><td>148</td><td> 808</td><td>434</td><td> 254</td><td>120</td><td>24</td></tr>\n",
       "\t<tr><th scope=row>2</th><td>Agoura Hills</td><td>20970</td><td> 15</td><td>0</td><td> 1</td><td> 6</td><td>  8</td><td> 310</td><td> 82</td><td> 217</td><td> 11</td><td> 0</td></tr>\n",
       "\t<tr><th scope=row>3</th><td>Alameda     </td><td>78613</td><td>148</td><td>2</td><td> 7</td><td>61</td><td> 78</td><td>1819</td><td>228</td><td>1245</td><td>346</td><td>18</td></tr>\n",
       "\t<tr><th scope=row>4</th><td>Albany      </td><td>19723</td><td> 34</td><td>1</td><td> 6</td><td>16</td><td> 11</td><td> 605</td><td> 95</td><td> 447</td><td> 63</td><td> 0</td></tr>\n",
       "\t<tr><th scope=row>5</th><td>Alhambra3   </td><td>86175</td><td>168</td><td>1</td><td>13</td><td>74</td><td> 80</td><td>1929</td><td>305</td><td>1413</td><td>211</td><td> 6</td></tr>\n",
       "\t<tr><th scope=row>6</th><td>Aliso Viejo </td><td>50751</td><td> 32</td><td>0</td><td> 5</td><td> 3</td><td> 24</td><td> 363</td><td> 53</td><td> 276</td><td> 34</td><td> 1</td></tr>\n",
       "</tbody>\n",
       "</table>\n"
      ],
      "text/latex": [
       "A data.frame: 6 × 12\n",
       "\\begin{tabular}{r|llllllllllll}\n",
       "  & City & Population & Violent.crime & Murder.and.nonnegligent.manslaughter & Rape..revised.definition. & Robbery & Aggravated.assault & Property.crime & Burglary & Larceny.theft & Motor.vehicle.theft & Arson\\\\\n",
       "  & <chr> & <dbl> & <dbl> & <int> & <dbl> & <dbl> & <dbl> & <dbl> & <dbl> & <dbl> & <dbl> & <dbl>\\\\\n",
       "\\hline\n",
       "\t1 & Adelanto     & 33005 & 212 & 2 & 14 & 48 & 148 &  808 & 434 &  254 & 120 & 24\\\\\n",
       "\t2 & Agoura Hills & 20970 &  15 & 0 &  1 &  6 &   8 &  310 &  82 &  217 &  11 &  0\\\\\n",
       "\t3 & Alameda      & 78613 & 148 & 2 &  7 & 61 &  78 & 1819 & 228 & 1245 & 346 & 18\\\\\n",
       "\t4 & Albany       & 19723 &  34 & 1 &  6 & 16 &  11 &  605 &  95 &  447 &  63 &  0\\\\\n",
       "\t5 & Alhambra3    & 86175 & 168 & 1 & 13 & 74 &  80 & 1929 & 305 & 1413 & 211 &  6\\\\\n",
       "\t6 & Aliso Viejo  & 50751 &  32 & 0 &  5 &  3 &  24 &  363 &  53 &  276 &  34 &  1\\\\\n",
       "\\end{tabular}\n"
      ],
      "text/markdown": [
       "\n",
       "A data.frame: 6 × 12\n",
       "\n",
       "| <!--/--> | City &lt;chr&gt; | Population &lt;dbl&gt; | Violent.crime &lt;dbl&gt; | Murder.and.nonnegligent.manslaughter &lt;int&gt; | Rape..revised.definition. &lt;dbl&gt; | Robbery &lt;dbl&gt; | Aggravated.assault &lt;dbl&gt; | Property.crime &lt;dbl&gt; | Burglary &lt;dbl&gt; | Larceny.theft &lt;dbl&gt; | Motor.vehicle.theft &lt;dbl&gt; | Arson &lt;dbl&gt; |\n",
       "|---|---|---|---|---|---|---|---|---|---|---|---|---|\n",
       "| 1 | Adelanto     | 33005 | 212 | 2 | 14 | 48 | 148 |  808 | 434 |  254 | 120 | 24 |\n",
       "| 2 | Agoura Hills | 20970 |  15 | 0 |  1 |  6 |   8 |  310 |  82 |  217 |  11 |  0 |\n",
       "| 3 | Alameda      | 78613 | 148 | 2 |  7 | 61 |  78 | 1819 | 228 | 1245 | 346 | 18 |\n",
       "| 4 | Albany       | 19723 |  34 | 1 |  6 | 16 |  11 |  605 |  95 |  447 |  63 |  0 |\n",
       "| 5 | Alhambra3    | 86175 | 168 | 1 | 13 | 74 |  80 | 1929 | 305 | 1413 | 211 |  6 |\n",
       "| 6 | Aliso Viejo  | 50751 |  32 | 0 |  5 |  3 |  24 |  363 |  53 |  276 |  34 |  1 |\n",
       "\n"
      ],
      "text/plain": [
       "  City         Population Violent.crime Murder.and.nonnegligent.manslaughter\n",
       "1 Adelanto     33005      212           2                                   \n",
       "2 Agoura Hills 20970       15           0                                   \n",
       "3 Alameda      78613      148           2                                   \n",
       "4 Albany       19723       34           1                                   \n",
       "5 Alhambra3    86175      168           1                                   \n",
       "6 Aliso Viejo  50751       32           0                                   \n",
       "  Rape..revised.definition. Robbery Aggravated.assault Property.crime Burglary\n",
       "1 14                        48      148                 808           434     \n",
       "2  1                         6        8                 310            82     \n",
       "3  7                        61       78                1819           228     \n",
       "4  6                        16       11                 605            95     \n",
       "5 13                        74       80                1929           305     \n",
       "6  5                         3       24                 363            53     \n",
       "  Larceny.theft Motor.vehicle.theft Arson\n",
       "1  254          120                 24   \n",
       "2  217           11                  0   \n",
       "3 1245          346                 18   \n",
       "4  447           63                  0   \n",
       "5 1413          211                  6   \n",
       "6  276           34                  1   "
      ]
     },
     "metadata": {},
     "output_type": "display_data"
    }
   ],
   "source": [
    "colSums(is.na(offenses_city))\n",
    "#Rape..legacy.definition. attribute has 460 NA values, so we delete it.\n",
    "offenses_city <- offenses_city[,-6]\n",
    "head(offenses_city)"
   ]
  },
  {
   "cell_type": "markdown",
   "id": "14507ae5-24ae-41d3-8375-a0c404e7dada",
   "metadata": {},
   "source": [
    "# Preprocessing ca_offenses_by_county.csv"
   ]
  },
  {
   "cell_type": "code",
   "execution_count": 61,
   "id": "929845d3-c755-4685-80da-a0d16e4bcb5f",
   "metadata": {},
   "outputs": [
    {
     "data": {
      "text/html": [
       "<style>\n",
       ".dl-inline {width: auto; margin:0; padding: 0}\n",
       ".dl-inline>dt, .dl-inline>dd {float: none; width: auto; display: inline-block}\n",
       ".dl-inline>dt::after {content: \":\\0020\"; padding-right: .5ex}\n",
       ".dl-inline>dt:not(:first-of-type) {padding-left: .5ex}\n",
       "</style><dl class=dl-inline><dt>Metropolitan.Nonmetropolitan</dt><dd>0</dd><dt>County</dt><dd>0</dd><dt>Violent.crime</dt><dd>0</dd><dt>Murder.and.nonnegligent.manslaughter</dt><dd>0</dd><dt>Rape..revised.definition.</dt><dd>0</dd><dt>Rape.legacy.definition.</dt><dd>57</dd><dt>Robbery</dt><dd>0</dd><dt>Aggravated.assault</dt><dd>0</dd><dt>Property.crime</dt><dd>0</dd><dt>Burglary</dt><dd>0</dd><dt>Larceny.theft</dt><dd>0</dd><dt>Motor.vehicle.theft</dt><dd>0</dd><dt>Arson</dt><dd>0</dd></dl>\n"
      ],
      "text/latex": [
       "\\begin{description*}\n",
       "\\item[Metropolitan.Nonmetropolitan] 0\n",
       "\\item[County] 0\n",
       "\\item[Violent.crime] 0\n",
       "\\item[Murder.and.nonnegligent.manslaughter] 0\n",
       "\\item[Rape..revised.definition.] 0\n",
       "\\item[Rape.legacy.definition.] 57\n",
       "\\item[Robbery] 0\n",
       "\\item[Aggravated.assault] 0\n",
       "\\item[Property.crime] 0\n",
       "\\item[Burglary] 0\n",
       "\\item[Larceny.theft] 0\n",
       "\\item[Motor.vehicle.theft] 0\n",
       "\\item[Arson] 0\n",
       "\\end{description*}\n"
      ],
      "text/markdown": [
       "Metropolitan.Nonmetropolitan\n",
       ":   0County\n",
       ":   0Violent.crime\n",
       ":   0Murder.and.nonnegligent.manslaughter\n",
       ":   0Rape..revised.definition.\n",
       ":   0Rape.legacy.definition.\n",
       ":   57Robbery\n",
       ":   0Aggravated.assault\n",
       ":   0Property.crime\n",
       ":   0Burglary\n",
       ":   0Larceny.theft\n",
       ":   0Motor.vehicle.theft\n",
       ":   0Arson\n",
       ":   0\n",
       "\n"
      ],
      "text/plain": [
       "        Metropolitan.Nonmetropolitan                               County \n",
       "                                   0                                    0 \n",
       "                       Violent.crime Murder.and.nonnegligent.manslaughter \n",
       "                                   0                                    0 \n",
       "           Rape..revised.definition.              Rape.legacy.definition. \n",
       "                                   0                                   57 \n",
       "                             Robbery                   Aggravated.assault \n",
       "                                   0                                    0 \n",
       "                      Property.crime                             Burglary \n",
       "                                   0                                    0 \n",
       "                       Larceny.theft                  Motor.vehicle.theft \n",
       "                                   0                                    0 \n",
       "                               Arson \n",
       "                                   0 "
      ]
     },
     "metadata": {},
     "output_type": "display_data"
    }
   ],
   "source": [
    "offenses_county <- offenses_county[rowSums(is.na(offenses_county)) < ncol(offenses_county), ]\n",
    "colSums(is.na(offenses_county))"
   ]
  },
  {
   "cell_type": "markdown",
   "id": "6e238992-f8a8-4a49-a0d4-6cad0f21564d",
   "metadata": {},
   "source": [
    "#Rape..legacy.definition. attribute has 57 NA values\n",
    "offenses_county <- offenses_county[,-6]\n",
    "head(offenses_city)"
   ]
  },
  {
   "cell_type": "code",
   "execution_count": 67,
   "id": "74b3a247-9cbf-484d-bc0f-a24a68ed8ef0",
   "metadata": {},
   "outputs": [
    {
     "name": "stdout",
     "output_type": "stream",
     "text": [
      "'data.frame':\t57 obs. of  12 variables:\n",
      " $ Metropolitan.Nonmetropolitan        : chr  \"Metropolitan Counties\" \"Metropolitan Counties\" \"Metropolitan Counties\" \"Metropolitan Counties\" ...\n",
      " $ County                              : chr  \"Alameda\" \"Butte3\" \"Contra Costa\" \"El Dorado3\" ...\n",
      " $ Violent.crime                       : num  510 155 426 252 962 ...\n",
      " $ Murder.and.nonnegligent.manslaughter: num  510 155 426 252 962 ...\n",
      " $ Rape..revised.definition.           : num  13 20 24 46 32 6 157 16 304 18 ...\n",
      " $ Robbery                             : num  177 14 153 32 112 ...\n",
      " $ Aggravated.assault                  : num  314 117 235 165 810 ...\n",
      " $ Property.crime                      : num  2077 1422 2013 2031 3810 ...\n",
      " $ Burglary                            : num  463 708 660 577 1398 ...\n",
      " $ Larceny.theft                       : num  985 693 1332 1412 1838 ...\n",
      " $ Motor.vehicle.theft                 : num  629 21 21 42 574 ...\n",
      " $ Arson                               : num  11 0 18 4 145 21 300 5 215 4 ...\n"
     ]
    }
   ],
   "source": [
    "#chr to num\n",
    "offenses_county$Violent.crime <- as.numeric(gsub(\",\", \"\",offenses_county$Violent.crime))\n",
    "offenses_county$Murder.and.nonnegligent.manslaughter <- as.numeric(gsub(\",\", \"\",offenses_county$Violent.crime))\n",
    "offenses_county$Rape..revised.definition. <- as.numeric(gsub(\",\", \"\",offenses_county$Rape..revised.definition.))\n",
    "offenses_county$Robbery <- as.numeric(gsub(\",\", \"\",offenses_county$Robbery))\n",
    "offenses_county$Aggravated.assault <- as.numeric(gsub(\",\", \"\",offenses_county$Aggravated.assault))\n",
    "offenses_county$Property.crime <- as.numeric(gsub(\",\", \"\",offenses_county$Property.crime))\n",
    "offenses_county$Burglary <- as.numeric(gsub(\",\", \"\",offenses_county$Burglary))\n",
    "offenses_county$Larceny.theft <- as.numeric(gsub(\",\", \"\",offenses_county$Larceny.theft))\n",
    "offenses_county$Motor.vehicle.theft <- as.numeric(gsub(\",\", \"\",offenses_county$Motor.vehicle.theft))\n",
    "offenses_county$Arson <- as.numeric(gsub(\",\", \"\",offenses_county$Arson))\n",
    "str(offenses_county)"
   ]
  },
  {
   "cell_type": "markdown",
   "id": "a65da5d5-4151-4ece-b56e-b866fc6d7351",
   "metadata": {},
   "source": [
    "# Distribution Type in ca_offenses_by_county.csv for Population και Violent Crime attributes"
   ]
  },
  {
   "cell_type": "code",
   "execution_count": 75,
   "id": "91075792-3266-4ac2-aaa6-98a9be6a20d8",
   "metadata": {},
   "outputs": [
    {
     "data": {
      "image/png": "[encoded data removed]",
      "text/plain": [
       "Plot with title \"Histogramm for Violent Crimes by County\""
      ]
     },
     "metadata": {
      "image/png": {
       "height": 420,
       "width": 420
      }
     },
     "output_type": "display_data"
    }
   ],
   "source": [
    "#Histogramm for Violent Crime by county to see Distribution Type\n",
    "#positive skew\n",
    "hist(offenses_county$Violent.crime, main = 'Histogramm for Violent Crimes by County',\n",
    "     xlab = 'Total Crimes',ylab = 'Frequency',col = 'blue', breaks = 3)"
   ]
  },
  {
   "cell_type": "code",
   "execution_count": 79,
   "id": "99923553-d307-49be-98fe-2118b1d51ced",
   "metadata": {},
   "outputs": [
    {
     "data": {
      "text/plain": [
       "\n",
       "\tShapiro-Wilk normality test\n",
       "\n",
       "data:  offenses_county$Violent.crime\n",
       "W = 0.48038, p-value = 6.621e-13\n"
      ]
     },
     "metadata": {},
     "output_type": "display_data"
    }
   ],
   "source": [
    "#Shapiro test\n",
    "#p<0.05, ΝΟΤ normal distribution\n",
    "shapiro.test(offenses_county$Violent.crime)"
   ]
  },
  {
   "cell_type": "code",
   "execution_count": null,
   "id": "1795d83b-4850-4293-956a-44ca129154ff",
   "metadata": {},
   "outputs": [],
   "source": []
  }
 ],
 "metadata": {
  "kernelspec": {
   "display_name": "R",
   "language": "R",
   "name": "ir"
  },
  "language_info": {
   "codemirror_mode": "r",
   "file_extension": ".r",
   "mimetype": "text/x-r-source",
   "name": "R",
   "pygments_lexer": "r",
   "version": "4.4.2"
  }
 },
 "nbformat": 4,
 "nbformat_minor": 5
}

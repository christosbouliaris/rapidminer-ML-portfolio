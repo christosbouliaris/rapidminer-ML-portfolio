{
 "cells": [
  {
   "cell_type": "markdown",
   "id": "f8a7795c-737e-4b2f-81f2-38c07e21e2e7",
   "metadata": {},
   "source": [
    "# California Crime Analysis (R)\n",
    "### Dataset Description\n",
    "This project uses the “California Crime and Law Enforcement” dataset (2015) from Kaggle. It includes crime statistics by city and county in California (e.g., violent and property crimes) as well as corresponding law enforcement employee numbers. The dataset enables analysis of crime distribution, officer-to-population ratios, outlier detection, and exploratory modeling.\n"
   ]
  },
  {
   "cell_type": "code",
   "execution_count": 5,
   "id": "1d70e5a5-69a6-49af-b096-c5581e6044d8",
   "metadata": {
    "scrolled": true
   },
   "outputs": [],
   "source": [
    "#Libraries\n",
    "library(readr)"
   ]
  },
  {
   "cell_type": "code",
   "execution_count": 7,
   "id": "299dc61a-b6cc-4dcc-adcf-15600dd2b959",
   "metadata": {},
   "outputs": [
    {
     "data": {
      "text/html": [
       "<table class=\"dataframe\">\n",
       "<caption>A data.frame: 6 × 5</caption>\n",
       "<thead>\n",
       "\t<tr><th></th><th scope=col>City</th><th scope=col>Population</th><th scope=col>Total.law.enforcement.employees</th><th scope=col>Total..officers</th><th scope=col>Total..civilians</th></tr>\n",
       "\t<tr><th></th><th scope=col>&lt;chr&gt;</th><th scope=col>&lt;chr&gt;</th><th scope=col>&lt;chr&gt;</th><th scope=col>&lt;chr&gt;</th><th scope=col>&lt;chr&gt;</th></tr>\n",
       "</thead>\n",
       "<tbody>\n",
       "\t<tr><th scope=row>1</th><td>Alameda </td><td>78,613 </td><td>112</td><td>83 </td><td>29 </td></tr>\n",
       "\t<tr><th scope=row>2</th><td>Albany  </td><td>19,723 </td><td>30 </td><td>23 </td><td>7  </td></tr>\n",
       "\t<tr><th scope=row>3</th><td>Alhambra</td><td>86,175 </td><td>128</td><td>85 </td><td>43 </td></tr>\n",
       "\t<tr><th scope=row>4</th><td>Alturas </td><td>2,566  </td><td>6  </td><td>5  </td><td>1  </td></tr>\n",
       "\t<tr><th scope=row>5</th><td>Anaheim </td><td>349,471</td><td>577</td><td>399</td><td>178</td></tr>\n",
       "\t<tr><th scope=row>6</th><td>Anderson</td><td>10,277 </td><td>24 </td><td>18 </td><td>6  </td></tr>\n",
       "</tbody>\n",
       "</table>\n"
      ],
      "text/latex": [
       "A data.frame: 6 × 5\n",
       "\\begin{tabular}{r|lllll}\n",
       "  & City & Population & Total.law.enforcement.employees & Total..officers & Total..civilians\\\\\n",
       "  & <chr> & <chr> & <chr> & <chr> & <chr>\\\\\n",
       "\\hline\n",
       "\t1 & Alameda  & 78,613  & 112 & 83  & 29 \\\\\n",
       "\t2 & Albany   & 19,723  & 30  & 23  & 7  \\\\\n",
       "\t3 & Alhambra & 86,175  & 128 & 85  & 43 \\\\\n",
       "\t4 & Alturas  & 2,566   & 6   & 5   & 1  \\\\\n",
       "\t5 & Anaheim  & 349,471 & 577 & 399 & 178\\\\\n",
       "\t6 & Anderson & 10,277  & 24  & 18  & 6  \\\\\n",
       "\\end{tabular}\n"
      ],
      "text/markdown": [
       "\n",
       "A data.frame: 6 × 5\n",
       "\n",
       "| <!--/--> | City &lt;chr&gt; | Population &lt;chr&gt; | Total.law.enforcement.employees &lt;chr&gt; | Total..officers &lt;chr&gt; | Total..civilians &lt;chr&gt; |\n",
       "|---|---|---|---|---|---|\n",
       "| 1 | Alameda  | 78,613  | 112 | 83  | 29  |\n",
       "| 2 | Albany   | 19,723  | 30  | 23  | 7   |\n",
       "| 3 | Alhambra | 86,175  | 128 | 85  | 43  |\n",
       "| 4 | Alturas  | 2,566   | 6   | 5   | 1   |\n",
       "| 5 | Anaheim  | 349,471 | 577 | 399 | 178 |\n",
       "| 6 | Anderson | 10,277  | 24  | 18  | 6   |\n",
       "\n"
      ],
      "text/plain": [
       "  City     Population Total.law.enforcement.employees Total..officers\n",
       "1 Alameda  78,613     112                             83             \n",
       "2 Albany   19,723     30                              23             \n",
       "3 Alhambra 86,175     128                             85             \n",
       "4 Alturas  2,566      6                               5              \n",
       "5 Anaheim  349,471    577                             399            \n",
       "6 Anderson 10,277     24                              18             \n",
       "  Total..civilians\n",
       "1 29              \n",
       "2 7               \n",
       "3 43              \n",
       "4 1               \n",
       "5 178             \n",
       "6 6               "
      ]
     },
     "metadata": {},
     "output_type": "display_data"
    }
   ],
   "source": [
    "law_city <- read.csv(\"C:/Users/chris/OneDrive/Έγγραφα/R_scripts/ca_law_enforcement_by_city.csv\")\n",
    "head(law_city)"
   ]
  },
  {
   "cell_type": "code",
   "execution_count": null,
   "id": "5d4730ef-a1f9-4112-b1f7-3e5cf7b3383b",
   "metadata": {},
   "outputs": [],
   "source": []
  }
 ],
 "metadata": {
  "kernelspec": {
   "display_name": "R",
   "language": "R",
   "name": "ir"
  },
  "language_info": {
   "codemirror_mode": "r",
   "file_extension": ".r",
   "mimetype": "text/x-r-source",
   "name": "R",
   "pygments_lexer": "r",
   "version": "4.4.2"
  }
 },
 "nbformat": 4,
 "nbformat_minor": 5
}
